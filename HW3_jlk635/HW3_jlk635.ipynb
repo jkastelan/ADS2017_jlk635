{
 "cells": [
  {
   "cell_type": "markdown",
   "metadata": {},
   "source": [
    "# ADS, fall 2017. Homework 3\n",
    "\n",
    "### Completed by Jon Kastelan (jlk635)\n",
    "\n",
    "##### See below a view of standard incredibly awesome imports\n"
   ]
  },
  {
   "cell_type": "code",
   "execution_count": 1,
   "metadata": {
    "collapsed": true
   },
   "outputs": [],
   "source": [
    "import pandas as pd\n",
    "import numpy as np\n",
    "from sklearn.datasets import make_classification\n",
    "from sklearn.datasets import make_blobs\n",
    "from matplotlib.pylab import plt\n",
    "from sklearn.decomposition import PCA\n",
    "import statsmodels.formula.api as smf\n",
    "from sklearn.model_selection import train_test_split\n",
    "import statsmodels as sm\n",
    "%matplotlib inline\n",
    "import scipy.stats\n",
    "from mpl_toolkits.mplot3d import Axes3D\n"
   ]
  },
  {
   "cell_type": "markdown",
   "metadata": {},
   "source": [
    "### Q1 (10 points). P-values and hypothesis testing\n",
    "Suppose that a multiple regression with 10 regressors gave the following p-values for each of them (the value below are NOT in percents yet):\n",
    "\n",
    "0.02, 0.1, 3e-15, 0.5, 0.04, 0.001, 0.06, 0.03, 0.045, 5e-3.\n",
    "\n",
    "For how many regressors you would reject the null-hypothesis that their corresponding regression coefficient is zero? Please explain."
   ]
  },
  {
   "cell_type": "markdown",
   "metadata": {},
   "source": [
    "##### Answer:\n",
    "\n",
    "Reject the null hypothesis if the p-value is less than critical value (size, $\\alpha$). If $\\alpha$ = 0.05, we would reject the null hypothesis for p-values equal to 0.02, 3e-15, 0.04, 0.001, 0.03, 0.045 and 5e-3. A total of 7 regressors are statistically significant in this model."
   ]
  },
  {
   "cell_type": "markdown",
   "metadata": {},
   "source": [
    "### Q2 (15 points). Confidence intervals\n",
    "Assume we perform a regression and get an estimate 100 for the slope coefficient for the regressor of interest. Select all statements that can not be true for its confidence intervals:\n",
    "\n",
    "a. 99%-conficence interval is [99.99,100.01]\n",
    "\n",
    "**b. 95%-confidence interval is [-300, 300] - NOT TRUE**\n",
    "\n",
    "**c. 98%-confidence interval is [95, 105], while 90%-confidence interval is [90, 110]. - NOT TRUE**\n",
    "\n",
    "**d. 99%-confidence interval is [99,100] - NOT TRUE**\n",
    "\n",
    "Explain your choices"
   ]
  },
  {
   "cell_type": "markdown",
   "metadata": {},
   "source": [
    "##### Answer:\n",
    "\n",
    "Part (a) is the only statement which may be true. \n",
    "\n",
    "Statements (b) and (c) are not true, because the centre of the confidence interval must be the estimate = 100, whereas the centre for statement (b) is 0, and the centre for statement (d) is 99.5. \n",
    "\n",
    "A larger % confidence interval must be wider than a smaller % confidence interval. For statement (c), the 90% confidence interval is wider than the 98% confidence interval, and this is contradiction. If you are 98% confident the true estimate is between 95 and 105, then you must be at least 98% confident the true estimate is between 90 and 110 (but the statement indicates we're only 90% confident of this - it is a contradication)."
   ]
  },
  {
   "cell_type": "markdown",
   "metadata": {},
   "source": [
    "### Q3 (15 points). \n",
    "\n",
    "A linear regression model is fit over a dataset with 181 observations and 'n' features. The estimate for the regression coefficient for one of the features is 911.0964 while its standard error is 344.185.\n",
    "\n",
    "What will be the \n",
    "a) 95, 99 and 90% confidence intervals? \n",
    "b) p-values?"
   ]
  },
  {
   "cell_type": "markdown",
   "metadata": {},
   "source": [
    "#### Part (a)\n",
    "\n",
    "Assume the number of features is less than ~80, and we still have an adequate number of degrees of freedom to use t-statistic with 100 degrees of freedom."
   ]
  },
  {
   "cell_type": "code",
   "execution_count": 2,
   "metadata": {},
   "outputs": [
    {
     "name": "stdout",
     "output_type": "stream",
     "text": [
      "\n",
      "Using a t-distribution with 100 degrees of freedom:\n",
      "The 95% confidence interval is between 228.2432 and 1593.9496\n",
      "The 99% confidence interval is between 7.3043 and 1814.8885\n",
      "The 90% confidence interval is between 339.6686 and 1482.5242\n",
      "\n",
      "Compare intervals using a normal approximation\n",
      "The 95% confidence interval is between 236.4938 and 1585.699\n",
      "The 99% confidence interval is between 24.82 and 1797.3728\n",
      "The 90% confidence interval is between 344.9121 and 1477.2807\n"
     ]
    }
   ],
   "source": [
    "sigLevels = np.array([95.,99.,90.])\n",
    "\n",
    "tValues = scipy.stats.t.ppf(0.5*(1-sigLevels/100), df=100)\n",
    "zValues = np.array([1.960,2.575,1.645])\n",
    "mean = 911.0964\n",
    "standardError = 344.185\n",
    "\n",
    "LowerCIt = mean + tValues * standardError\n",
    "UpperCIt = mean - tValues * standardError\n",
    "\n",
    "print(\"\\nUsing a t-distribution with 100 degrees of freedom:\")  \n",
    "for i, lev in enumerate(sigLevels):\n",
    "    print(\"The {}% confidence interval is between {} and {}\".format(int(lev),round(LowerCIt[i],4),round(UpperCIt[i],4)))\n",
    "\n",
    "    \n",
    "LowerCIz = mean - zValues * standardError\n",
    "UpperCIz = mean + zValues * standardError\n",
    "    \n",
    "print(\"\\nCompare intervals using a normal approximation\")    \n",
    "for i, lev in enumerate(sigLevels):\n",
    "    print(\"The {}% confidence interval is between {} and {}\".format(int(lev),round(LowerCIz[i],4),round(UpperCIz[i],4)))\n",
    "\n",
    "  "
   ]
  },
  {
   "cell_type": "markdown",
   "metadata": {},
   "source": [
    "The normal approximation provides a good estimate in this case, similar to the t-distribution (which is slightly more conservative with wider intervals)."
   ]
  },
  {
   "cell_type": "markdown",
   "metadata": {},
   "source": [
    "#### Part (b)"
   ]
  },
  {
   "cell_type": "code",
   "execution_count": 3,
   "metadata": {},
   "outputs": [
    {
     "name": "stdout",
     "output_type": "stream",
     "text": [
      "The test statistic is 2.6471 with corresponding p-value 0.0094 (assuming t-distribution)\n",
      "Using a normal approximation, the corresponding p-value is 0.0081\n"
     ]
    }
   ],
   "source": [
    "testStat = (mean - 0) / standardError\n",
    "\n",
    "pVal = 2 * (1 - scipy.stats.t.cdf(testStat, df=100))\n",
    "\n",
    "print(\"The test statistic is {} with corresponding p-value {} (assuming t-distribution)\".format(round(testStat,4), round(pVal,4)))\n",
    "\n",
    "pValz = 2 * (1 - scipy.stats.norm.cdf(testStat))\n",
    "\n",
    "print(\"Using a normal approximation, the corresponding p-value is {}\".format(round(pValz,4)))\n"
   ]
  },
  {
   "cell_type": "markdown",
   "metadata": {},
   "source": [
    "### Q4.(ACS Data Set, 30pts)\n",
    "\n",
    "We'll be using the ACS dataset provided below.\n",
    "\n",
    "Survey:           ACS 2015 (5-Year Estimates)\n",
    "Dataset:          Social Explorer Tables:  ACS 2015 (5-Year Estimates)\n",
    "\n",
    "**VARIABLE DESCRIPTIONS:** (Data was collected in 2015)\n",
    "\n",
    "Tables:\n",
    "\n",
    "      1. Population Density (per Sq. Mile)\n",
    "         Universe:  Total Population\n",
    "         Name:      T2\n",
    "         Variables:\n",
    "            T002_001:   Total Population\n",
    "            T002_002:   Population Density (Per Sq. Mile)\n",
    "            T002_003:   Area (Land)\n",
    "\n",
    "\n",
    "      2. Average Household Size\n",
    "         Universe:  Occupied Households\n",
    "         Name:      T21\n",
    "         Variables:\n",
    "            T021_001:   Average Household Size\n",
    "\n",
    "\n",
    "\n",
    "      3. Median Household Income (In <DollarYear> Inflation Adjusted Dollars)\n",
    "         Universe:  Households\n",
    "         Name:      T57\n",
    "         Variables:\n",
    "            T057_001:   Median Household Income (In 2015 Inflation Adjusted Dollars)\n",
    "\n",
    "\n",
    "      4. Per Capita Income (In <DollarYear> Inflation Adjusted Dollars)\n",
    "         Universe:  Total Population\n",
    "         Name:      T83\n",
    "         Variables:\n",
    "            T083_001:   Per Capita Income (In 2015 Inflation Adjusted Dollars)\n",
    "\n",
    " \n",
    "      5. Median Gross Rent\n",
    "          Universe:  Renter-occupied housing units paying cash rent\n",
    "          Name:      T104\n",
    "          Variables:\n",
    "             T104_001:   Median Gross Rent\n",
    "\n",
    "\n",
    "      6. Ratio of Income in 2015 to Poverty Level\n",
    "          Universe:  Population for whom poverty status Is determined\n",
    "          Name:      T117\n",
    "          Variables:\n",
    "             T117_001:   Population for Whom Poverty Status Is Determined:\n",
    "\n",
    "      7. Average Commute to Work (in Min)\n",
    "          Universe:  Average Commute to Work (in min)\n",
    "          Name:      T147\n",
    "          Variables:\n",
    "             T147_001:   Average Commute to Work (in Min)\n",
    "\n",
    "\n",
    "Run the regression modeling the median household income through all the features above and analyse its statistics. Based on the results, suppose X(s) is the predicted median household income for the household of the size s and if deltaX=X(s+1)-X(s) then calculate:\n",
    "* (a) What's the expected price E(X)?\n",
    "* (b) What's the probability that X > \\$15000?  \n",
    "* (c) What's the two-sided 80% confidence interval of X?\n",
    "* (d) What's the one-sided 98% confidence interval of X? Calculate the upper interval $[X_0, +\\infty)$,"
   ]
  },
  {
   "cell_type": "code",
   "execution_count": 4,
   "metadata": {},
   "outputs": [
    {
     "data": {
      "text/html": [
       "<div>\n",
       "<style>\n",
       "    .dataframe thead tr:only-child th {\n",
       "        text-align: right;\n",
       "    }\n",
       "\n",
       "    .dataframe thead th {\n",
       "        text-align: left;\n",
       "    }\n",
       "\n",
       "    .dataframe tbody tr th {\n",
       "        vertical-align: top;\n",
       "    }\n",
       "</style>\n",
       "<table border=\"1\" class=\"dataframe\">\n",
       "  <thead>\n",
       "    <tr style=\"text-align: right;\">\n",
       "      <th></th>\n",
       "      <th>Unnamed: 0</th>\n",
       "      <th>Geo_FIPS</th>\n",
       "      <th>Geo_GEOID</th>\n",
       "      <th>Population_Density</th>\n",
       "      <th>Average_Household_Size</th>\n",
       "      <th>Median_Household_Income</th>\n",
       "      <th>Per_Capita_Income</th>\n",
       "      <th>Median_Value</th>\n",
       "      <th>Poverty_Status</th>\n",
       "      <th>Average_Commute_to_Work</th>\n",
       "    </tr>\n",
       "  </thead>\n",
       "  <tbody>\n",
       "    <tr>\n",
       "      <th>0</th>\n",
       "      <td>2</td>\n",
       "      <td>36061000202</td>\n",
       "      <td>14000US36061000202</td>\n",
       "      <td>67374.02</td>\n",
       "      <td>2.15</td>\n",
       "      <td>29684.0</td>\n",
       "      <td>27355.0</td>\n",
       "      <td>533600.0</td>\n",
       "      <td>7768</td>\n",
       "      <td>31.0</td>\n",
       "    </tr>\n",
       "    <tr>\n",
       "      <th>1</th>\n",
       "      <td>4</td>\n",
       "      <td>36061000600</td>\n",
       "      <td>14000US36061000600</td>\n",
       "      <td>128089.30</td>\n",
       "      <td>2.92</td>\n",
       "      <td>19863.0</td>\n",
       "      <td>12802.0</td>\n",
       "      <td>521200.0</td>\n",
       "      <td>12378</td>\n",
       "      <td>30.0</td>\n",
       "    </tr>\n",
       "    <tr>\n",
       "      <th>2</th>\n",
       "      <td>5</td>\n",
       "      <td>36061000700</td>\n",
       "      <td>14000US36061000700</td>\n",
       "      <td>89695.05</td>\n",
       "      <td>1.92</td>\n",
       "      <td>117841.0</td>\n",
       "      <td>89303.0</td>\n",
       "      <td>1035900.0</td>\n",
       "      <td>8794</td>\n",
       "      <td>25.0</td>\n",
       "    </tr>\n",
       "    <tr>\n",
       "      <th>3</th>\n",
       "      <td>6</td>\n",
       "      <td>36061000800</td>\n",
       "      <td>14000US36061000800</td>\n",
       "      <td>112643.90</td>\n",
       "      <td>2.63</td>\n",
       "      <td>27137.0</td>\n",
       "      <td>17426.0</td>\n",
       "      <td>588100.0</td>\n",
       "      <td>9465</td>\n",
       "      <td>33.0</td>\n",
       "    </tr>\n",
       "    <tr>\n",
       "      <th>4</th>\n",
       "      <td>7</td>\n",
       "      <td>36061000900</td>\n",
       "      <td>14000US36061000900</td>\n",
       "      <td>12507.00</td>\n",
       "      <td>2.14</td>\n",
       "      <td>147500.0</td>\n",
       "      <td>111599.0</td>\n",
       "      <td>1000000.0</td>\n",
       "      <td>1626</td>\n",
       "      <td>26.0</td>\n",
       "    </tr>\n",
       "  </tbody>\n",
       "</table>\n",
       "</div>"
      ],
      "text/plain": [
       "   Unnamed: 0     Geo_FIPS           Geo_GEOID  Population_Density  \\\n",
       "0           2  36061000202  14000US36061000202            67374.02   \n",
       "1           4  36061000600  14000US36061000600           128089.30   \n",
       "2           5  36061000700  14000US36061000700            89695.05   \n",
       "3           6  36061000800  14000US36061000800           112643.90   \n",
       "4           7  36061000900  14000US36061000900            12507.00   \n",
       "\n",
       "   Average_Household_Size  Median_Household_Income  Per_Capita_Income  \\\n",
       "0                    2.15                  29684.0            27355.0   \n",
       "1                    2.92                  19863.0            12802.0   \n",
       "2                    1.92                 117841.0            89303.0   \n",
       "3                    2.63                  27137.0            17426.0   \n",
       "4                    2.14                 147500.0           111599.0   \n",
       "\n",
       "   Median_Value  Poverty_Status  Average_Commute_to_Work  \n",
       "0      533600.0            7768                     31.0  \n",
       "1      521200.0           12378                     30.0  \n",
       "2     1035900.0            8794                     25.0  \n",
       "3      588100.0            9465                     33.0  \n",
       "4     1000000.0            1626                     26.0  "
      ]
     },
     "execution_count": 4,
     "metadata": {},
     "output_type": "execute_result"
    }
   ],
   "source": [
    "df = pd.read_csv('file4.csv')\n",
    "df.head()"
   ]
  },
  {
   "cell_type": "code",
   "execution_count": 5,
   "metadata": {
    "collapsed": true
   },
   "outputs": [],
   "source": [
    "dfIncome = df[[u'Population_Density', u'Average_Household_Size', u'Median_Household_Income',\n",
    "       u'Per_Capita_Income', u'Median_Value', u'Poverty_Status',\n",
    "       u'Average_Commute_to_Work']]"
   ]
  },
  {
   "cell_type": "code",
   "execution_count": 6,
   "metadata": {},
   "outputs": [
    {
     "data": {
      "text/html": [
       "<div>\n",
       "<style>\n",
       "    .dataframe thead tr:only-child th {\n",
       "        text-align: right;\n",
       "    }\n",
       "\n",
       "    .dataframe thead th {\n",
       "        text-align: left;\n",
       "    }\n",
       "\n",
       "    .dataframe tbody tr th {\n",
       "        vertical-align: top;\n",
       "    }\n",
       "</style>\n",
       "<table border=\"1\" class=\"dataframe\">\n",
       "  <thead>\n",
       "    <tr style=\"text-align: right;\">\n",
       "      <th></th>\n",
       "      <th>Population_Density</th>\n",
       "      <th>Average_Household_Size</th>\n",
       "      <th>Median_Household_Income</th>\n",
       "      <th>Per_Capita_Income</th>\n",
       "      <th>Median_Value</th>\n",
       "      <th>Poverty_Status</th>\n",
       "      <th>Average_Commute_to_Work</th>\n",
       "    </tr>\n",
       "  </thead>\n",
       "  <tbody>\n",
       "    <tr>\n",
       "      <th>count</th>\n",
       "      <td>229.000000</td>\n",
       "      <td>229.000000</td>\n",
       "      <td>229.000000</td>\n",
       "      <td>229.000000</td>\n",
       "      <td>2.290000e+02</td>\n",
       "      <td>229.000000</td>\n",
       "      <td>229.000000</td>\n",
       "    </tr>\n",
       "    <tr>\n",
       "      <th>mean</th>\n",
       "      <td>90755.473362</td>\n",
       "      <td>2.061179</td>\n",
       "      <td>92247.847162</td>\n",
       "      <td>76997.943231</td>\n",
       "      <td>9.050171e+05</td>\n",
       "      <td>5700.611354</td>\n",
       "      <td>29.720524</td>\n",
       "    </tr>\n",
       "    <tr>\n",
       "      <th>std</th>\n",
       "      <td>42321.602835</td>\n",
       "      <td>0.408588</td>\n",
       "      <td>47358.219256</td>\n",
       "      <td>46338.335513</td>\n",
       "      <td>4.672732e+05</td>\n",
       "      <td>2985.890788</td>\n",
       "      <td>5.784930</td>\n",
       "    </tr>\n",
       "    <tr>\n",
       "      <th>min</th>\n",
       "      <td>1857.859000</td>\n",
       "      <td>1.420000</td>\n",
       "      <td>19863.000000</td>\n",
       "      <td>10478.000000</td>\n",
       "      <td>5.470000e+04</td>\n",
       "      <td>126.000000</td>\n",
       "      <td>17.000000</td>\n",
       "    </tr>\n",
       "    <tr>\n",
       "      <th>25%</th>\n",
       "      <td>61473.520000</td>\n",
       "      <td>1.750000</td>\n",
       "      <td>50228.000000</td>\n",
       "      <td>35052.000000</td>\n",
       "      <td>5.551000e+05</td>\n",
       "      <td>3149.000000</td>\n",
       "      <td>25.000000</td>\n",
       "    </tr>\n",
       "    <tr>\n",
       "      <th>50%</th>\n",
       "      <td>90891.680000</td>\n",
       "      <td>1.980000</td>\n",
       "      <td>91776.000000</td>\n",
       "      <td>73889.000000</td>\n",
       "      <td>8.507000e+05</td>\n",
       "      <td>5241.000000</td>\n",
       "      <td>29.000000</td>\n",
       "    </tr>\n",
       "    <tr>\n",
       "      <th>75%</th>\n",
       "      <td>113735.200000</td>\n",
       "      <td>2.320000</td>\n",
       "      <td>120938.000000</td>\n",
       "      <td>108407.000000</td>\n",
       "      <td>1.080900e+06</td>\n",
       "      <td>7776.000000</td>\n",
       "      <td>34.000000</td>\n",
       "    </tr>\n",
       "    <tr>\n",
       "      <th>max</th>\n",
       "      <td>241752.300000</td>\n",
       "      <td>3.360000</td>\n",
       "      <td>250001.000000</td>\n",
       "      <td>254204.000000</td>\n",
       "      <td>2.000001e+06</td>\n",
       "      <td>16051.000000</td>\n",
       "      <td>45.000000</td>\n",
       "    </tr>\n",
       "  </tbody>\n",
       "</table>\n",
       "</div>"
      ],
      "text/plain": [
       "       Population_Density  Average_Household_Size  Median_Household_Income  \\\n",
       "count          229.000000              229.000000               229.000000   \n",
       "mean         90755.473362                2.061179             92247.847162   \n",
       "std          42321.602835                0.408588             47358.219256   \n",
       "min           1857.859000                1.420000             19863.000000   \n",
       "25%          61473.520000                1.750000             50228.000000   \n",
       "50%          90891.680000                1.980000             91776.000000   \n",
       "75%         113735.200000                2.320000            120938.000000   \n",
       "max         241752.300000                3.360000            250001.000000   \n",
       "\n",
       "       Per_Capita_Income  Median_Value  Poverty_Status  \\\n",
       "count         229.000000  2.290000e+02      229.000000   \n",
       "mean        76997.943231  9.050171e+05     5700.611354   \n",
       "std         46338.335513  4.672732e+05     2985.890788   \n",
       "min         10478.000000  5.470000e+04      126.000000   \n",
       "25%         35052.000000  5.551000e+05     3149.000000   \n",
       "50%         73889.000000  8.507000e+05     5241.000000   \n",
       "75%        108407.000000  1.080900e+06     7776.000000   \n",
       "max        254204.000000  2.000001e+06    16051.000000   \n",
       "\n",
       "       Average_Commute_to_Work  \n",
       "count               229.000000  \n",
       "mean                 29.720524  \n",
       "std                   5.784930  \n",
       "min                  17.000000  \n",
       "25%                  25.000000  \n",
       "50%                  29.000000  \n",
       "75%                  34.000000  \n",
       "max                  45.000000  "
      ]
     },
     "execution_count": 6,
     "metadata": {},
     "output_type": "execute_result"
    }
   ],
   "source": [
    "dfIncome.describe()"
   ]
  },
  {
   "cell_type": "code",
   "execution_count": 7,
   "metadata": {},
   "outputs": [
    {
     "data": {
      "text/html": [
       "<table class=\"simpletable\">\n",
       "<caption>OLS Regression Results</caption>\n",
       "<tr>\n",
       "  <th>Dep. Variable:</th>    <td>Median_Household_Income</td> <th>  R-squared:         </th> <td>   0.832</td>\n",
       "</tr>\n",
       "<tr>\n",
       "  <th>Model:</th>                      <td>OLS</td>           <th>  Adj. R-squared:    </th> <td>   0.827</td>\n",
       "</tr>\n",
       "<tr>\n",
       "  <th>Method:</th>                <td>Least Squares</td>      <th>  F-statistic:       </th> <td>   182.6</td>\n",
       "</tr>\n",
       "<tr>\n",
       "  <th>Date:</th>                <td>Mon, 06 Nov 2017</td>     <th>  Prob (F-statistic):</th> <td>6.22e-83</td>\n",
       "</tr>\n",
       "<tr>\n",
       "  <th>Time:</th>                    <td>16:12:34</td>         <th>  Log-Likelihood:    </th> <td> -2585.8</td>\n",
       "</tr>\n",
       "<tr>\n",
       "  <th>No. Observations:</th>         <td>   229</td>          <th>  AIC:               </th> <td>   5186.</td>\n",
       "</tr>\n",
       "<tr>\n",
       "  <th>Df Residuals:</th>             <td>   222</td>          <th>  BIC:               </th> <td>   5210.</td>\n",
       "</tr>\n",
       "<tr>\n",
       "  <th>Df Model:</th>                 <td>     6</td>          <th>                     </th>     <td> </td>   \n",
       "</tr>\n",
       "<tr>\n",
       "  <th>Covariance Type:</th>         <td>nonrobust</td>        <th>                     </th>     <td> </td>   \n",
       "</tr>\n",
       "</table>\n",
       "<table class=\"simpletable\">\n",
       "<tr>\n",
       "             <td></td>                <th>coef</th>     <th>std err</th>      <th>t</th>      <th>P>|t|</th>  <th>[0.025</th>    <th>0.975]</th>  \n",
       "</tr>\n",
       "<tr>\n",
       "  <th>Intercept</th>               <td> 1.535e+04</td> <td> 1.24e+04</td> <td>    1.234</td> <td> 0.219</td> <td>-9165.448</td> <td> 3.99e+04</td>\n",
       "</tr>\n",
       "<tr>\n",
       "  <th>Population_Density</th>      <td>    0.0318</td> <td>    0.041</td> <td>    0.768</td> <td> 0.443</td> <td>   -0.050</td> <td>    0.113</td>\n",
       "</tr>\n",
       "<tr>\n",
       "  <th>Average_Household_Size</th>  <td> 1.121e+04</td> <td> 4621.474</td> <td>    2.426</td> <td> 0.016</td> <td> 2104.409</td> <td> 2.03e+04</td>\n",
       "</tr>\n",
       "<tr>\n",
       "  <th>Per_Capita_Income</th>       <td>    0.9073</td> <td>    0.049</td> <td>   18.392</td> <td> 0.000</td> <td>    0.810</td> <td>    1.005</td>\n",
       "</tr>\n",
       "<tr>\n",
       "  <th>Median_Value</th>            <td>    0.0043</td> <td>    0.004</td> <td>    1.085</td> <td> 0.279</td> <td>   -0.004</td> <td>    0.012</td>\n",
       "</tr>\n",
       "<tr>\n",
       "  <th>Poverty_Status</th>          <td>   -0.8155</td> <td>    0.603</td> <td>   -1.353</td> <td> 0.177</td> <td>   -2.003</td> <td>    0.372</td>\n",
       "</tr>\n",
       "<tr>\n",
       "  <th>Average_Commute_to_Work</th> <td> -612.3823</td> <td>  324.227</td> <td>   -1.889</td> <td> 0.060</td> <td>-1251.338</td> <td>   26.574</td>\n",
       "</tr>\n",
       "</table>\n",
       "<table class=\"simpletable\">\n",
       "<tr>\n",
       "  <th>Omnibus:</th>       <td>34.484</td> <th>  Durbin-Watson:     </th> <td>   2.067</td>\n",
       "</tr>\n",
       "<tr>\n",
       "  <th>Prob(Omnibus):</th> <td> 0.000</td> <th>  Jarque-Bera (JB):  </th> <td>  84.301</td>\n",
       "</tr>\n",
       "<tr>\n",
       "  <th>Skew:</th>          <td> 0.678</td> <th>  Prob(JB):          </th> <td>4.95e-19</td>\n",
       "</tr>\n",
       "<tr>\n",
       "  <th>Kurtosis:</th>      <td> 5.645</td> <th>  Cond. No.          </th> <td>9.98e+06</td>\n",
       "</tr>\n",
       "</table>"
      ],
      "text/plain": [
       "<class 'statsmodels.iolib.summary.Summary'>\n",
       "\"\"\"\n",
       "                               OLS Regression Results                              \n",
       "===================================================================================\n",
       "Dep. Variable:     Median_Household_Income   R-squared:                       0.832\n",
       "Model:                                 OLS   Adj. R-squared:                  0.827\n",
       "Method:                      Least Squares   F-statistic:                     182.6\n",
       "Date:                     Mon, 06 Nov 2017   Prob (F-statistic):           6.22e-83\n",
       "Time:                             16:12:34   Log-Likelihood:                -2585.8\n",
       "No. Observations:                      229   AIC:                             5186.\n",
       "Df Residuals:                          222   BIC:                             5210.\n",
       "Df Model:                                6                                         \n",
       "Covariance Type:                 nonrobust                                         \n",
       "===========================================================================================\n",
       "                              coef    std err          t      P>|t|      [0.025      0.975]\n",
       "-------------------------------------------------------------------------------------------\n",
       "Intercept                1.535e+04   1.24e+04      1.234      0.219   -9165.448    3.99e+04\n",
       "Population_Density          0.0318      0.041      0.768      0.443      -0.050       0.113\n",
       "Average_Household_Size   1.121e+04   4621.474      2.426      0.016    2104.409    2.03e+04\n",
       "Per_Capita_Income           0.9073      0.049     18.392      0.000       0.810       1.005\n",
       "Median_Value                0.0043      0.004      1.085      0.279      -0.004       0.012\n",
       "Poverty_Status             -0.8155      0.603     -1.353      0.177      -2.003       0.372\n",
       "Average_Commute_to_Work  -612.3823    324.227     -1.889      0.060   -1251.338      26.574\n",
       "==============================================================================\n",
       "Omnibus:                       34.484   Durbin-Watson:                   2.067\n",
       "Prob(Omnibus):                  0.000   Jarque-Bera (JB):               84.301\n",
       "Skew:                           0.678   Prob(JB):                     4.95e-19\n",
       "Kurtosis:                       5.645   Cond. No.                     9.98e+06\n",
       "==============================================================================\n",
       "\n",
       "Warnings:\n",
       "[1] Standard Errors assume that the covariance matrix of the errors is correctly specified.\n",
       "[2] The condition number is large, 9.98e+06. This might indicate that there are\n",
       "strong multicollinearity or other numerical problems.\n",
       "\"\"\""
      ]
     },
     "execution_count": 7,
     "metadata": {},
     "output_type": "execute_result"
    }
   ],
   "source": [
    "HHIncomeModelwIntercept = smf.ols(\"Median_Household_Income ~ Population_Density + Average_Household_Size + Per_Capita_Income + \\\n",
    "                                  Median_Value + Poverty_Status + Average_Commute_to_Work\", data = dfIncome).fit()\n",
    "HHIncomeModelwIntercept.summary()"
   ]
  },
  {
   "cell_type": "code",
   "execution_count": 8,
   "metadata": {},
   "outputs": [
    {
     "data": {
      "text/html": [
       "<div>\n",
       "<style>\n",
       "    .dataframe thead tr:only-child th {\n",
       "        text-align: right;\n",
       "    }\n",
       "\n",
       "    .dataframe thead th {\n",
       "        text-align: left;\n",
       "    }\n",
       "\n",
       "    .dataframe tbody tr th {\n",
       "        vertical-align: top;\n",
       "    }\n",
       "</style>\n",
       "<table border=\"1\" class=\"dataframe\">\n",
       "  <thead>\n",
       "    <tr style=\"text-align: right;\">\n",
       "      <th></th>\n",
       "      <th>Population_Density</th>\n",
       "      <th>Average_Household_Size</th>\n",
       "      <th>Median_Household_Income</th>\n",
       "      <th>Per_Capita_Income</th>\n",
       "      <th>Median_Value</th>\n",
       "      <th>Poverty_Status</th>\n",
       "      <th>Average_Commute_to_Work</th>\n",
       "    </tr>\n",
       "  </thead>\n",
       "  <tbody>\n",
       "    <tr>\n",
       "      <th>0</th>\n",
       "      <td>67374.02</td>\n",
       "      <td>2.15</td>\n",
       "      <td>29684.0</td>\n",
       "      <td>27355.0</td>\n",
       "      <td>533600.0</td>\n",
       "      <td>7768</td>\n",
       "      <td>31.0</td>\n",
       "    </tr>\n",
       "    <tr>\n",
       "      <th>1</th>\n",
       "      <td>128089.30</td>\n",
       "      <td>2.92</td>\n",
       "      <td>19863.0</td>\n",
       "      <td>12802.0</td>\n",
       "      <td>521200.0</td>\n",
       "      <td>12378</td>\n",
       "      <td>30.0</td>\n",
       "    </tr>\n",
       "    <tr>\n",
       "      <th>2</th>\n",
       "      <td>89695.05</td>\n",
       "      <td>1.92</td>\n",
       "      <td>117841.0</td>\n",
       "      <td>89303.0</td>\n",
       "      <td>1035900.0</td>\n",
       "      <td>8794</td>\n",
       "      <td>25.0</td>\n",
       "    </tr>\n",
       "    <tr>\n",
       "      <th>3</th>\n",
       "      <td>112643.90</td>\n",
       "      <td>2.63</td>\n",
       "      <td>27137.0</td>\n",
       "      <td>17426.0</td>\n",
       "      <td>588100.0</td>\n",
       "      <td>9465</td>\n",
       "      <td>33.0</td>\n",
       "    </tr>\n",
       "    <tr>\n",
       "      <th>4</th>\n",
       "      <td>12507.00</td>\n",
       "      <td>2.14</td>\n",
       "      <td>147500.0</td>\n",
       "      <td>111599.0</td>\n",
       "      <td>1000000.0</td>\n",
       "      <td>1626</td>\n",
       "      <td>26.0</td>\n",
       "    </tr>\n",
       "  </tbody>\n",
       "</table>\n",
       "</div>"
      ],
      "text/plain": [
       "   Population_Density  Average_Household_Size  Median_Household_Income  \\\n",
       "0            67374.02                    2.15                  29684.0   \n",
       "1           128089.30                    2.92                  19863.0   \n",
       "2            89695.05                    1.92                 117841.0   \n",
       "3           112643.90                    2.63                  27137.0   \n",
       "4            12507.00                    2.14                 147500.0   \n",
       "\n",
       "   Per_Capita_Income  Median_Value  Poverty_Status  Average_Commute_to_Work  \n",
       "0            27355.0      533600.0            7768                     31.0  \n",
       "1            12802.0      521200.0           12378                     30.0  \n",
       "2            89303.0     1035900.0            8794                     25.0  \n",
       "3            17426.0      588100.0            9465                     33.0  \n",
       "4           111599.0     1000000.0            1626                     26.0  "
      ]
     },
     "execution_count": 8,
     "metadata": {},
     "output_type": "execute_result"
    }
   ],
   "source": [
    "dfIncome.head()"
   ]
  },
  {
   "cell_type": "markdown",
   "metadata": {},
   "source": [
    "**(a) What's the expected price E(X)?**"
   ]
  },
  {
   "cell_type": "code",
   "execution_count": 9,
   "metadata": {},
   "outputs": [
    {
     "data": {
      "text/plain": [
       "Population_Density             0.031766\n",
       "Average_Household_Size     11211.981640\n",
       "Per_Capita_Income              0.907330\n",
       "Median_Value                   0.004301\n",
       "Poverty_Status                -0.815502\n",
       "Average_Commute_to_Work     -612.382257\n",
       "dtype: float64"
      ]
     },
     "execution_count": 9,
     "metadata": {},
     "output_type": "execute_result"
    }
   ],
   "source": [
    "HHIncomeModelwIntercept.params[1:]"
   ]
  },
  {
   "cell_type": "code",
   "execution_count": 10,
   "metadata": {},
   "outputs": [
    {
     "name": "stdout",
     "output_type": "stream",
     "text": [
      "The expected value of X, the median HH income is: $92247.8472\n"
     ]
    }
   ],
   "source": [
    "dfIncomeRegressorsAvg = dfIncome[[u'Population_Density', u'Average_Household_Size',\n",
    "                                  u'Per_Capita_Income', u'Median_Value', u'Poverty_Status',\n",
    "                                  u'Average_Commute_to_Work']].mean()\n",
    "AverageIncomePredict = np.dot(dfIncomeRegressorsAvg,HHIncomeModelwIntercept.params[1:]) + 1 * HHIncomeModelwIntercept.params[0]\n",
    "print(\"The expected value of X, the median HH income is: ${}\".format(round(AverageIncomePredict,4))) "
   ]
  },
  {
   "cell_type": "markdown",
   "metadata": {},
   "source": [
    "**(b) What's the probability that X > $15000?**\n",
    "\n",
    "Assume X follows a normal distribution.\n"
   ]
  },
  {
   "cell_type": "code",
   "execution_count": 11,
   "metadata": {},
   "outputs": [
    {
     "name": "stdout",
     "output_type": "stream",
     "text": [
      "The mean is $92247.8472 and standard deviation is $43090.0966.\n"
     ]
    }
   ],
   "source": [
    "ModelAvg = HHIncomeModelwIntercept.predict().mean()\n",
    "ModelStd = HHIncomeModelwIntercept.predict().std()\n",
    "print(\"The mean is ${} and standard deviation is ${}.\".format(round(ModelAvg,4),round(ModelStd,4)))"
   ]
  },
  {
   "cell_type": "code",
   "execution_count": 22,
   "metadata": {},
   "outputs": [
    {
     "name": "stdout",
     "output_type": "stream",
     "text": [
      "The probability X is greater than $15000 is: 96.28%\n"
     ]
    }
   ],
   "source": [
    "LowerX = 15000\n",
    "ProbLowerTS = (LowerX - ModelAvg) / ModelStd\n",
    "ProbLowerP = 1 - scipy.stats.t.cdf(ProbLowerTS,df=222)\n",
    "\n",
    "print(\"The probability X is greater than ${} is: {}%\".format(LowerX, 100*round(ProbLowerP,4)))"
   ]
  },
  {
   "cell_type": "markdown",
   "metadata": {},
   "source": [
    "**(c) What's the two-sided 80% confidence interval of X?**"
   ]
  },
  {
   "cell_type": "code",
   "execution_count": 13,
   "metadata": {},
   "outputs": [
    {
     "name": "stdout",
     "output_type": "stream",
     "text": [
      "The two-sided 80% confidence interval for X is: [$36860.8445, $147634.8498]\n"
     ]
    }
   ],
   "source": [
    "Lower80 = round(ModelAvg + scipy.stats.t.ppf(.1, df=222) * ModelStd,4)\n",
    "Upper80 = round(ModelAvg + scipy.stats.t.ppf(.9, df=222) * ModelStd,4)\n",
    "print(\"The two-sided 80% confidence interval for X is: [${}, ${}]\".format(Lower80, Upper80))\n"
   ]
  },
  {
   "cell_type": "code",
   "execution_count": null,
   "metadata": {
    "collapsed": true
   },
   "outputs": [],
   "source": []
  },
  {
   "cell_type": "markdown",
   "metadata": {},
   "source": [
    "\n",
    "**(d) What's the one-sided 98% confidence interval of X? Calculate the upper interval  [$X_0$,+$\\infty$)**"
   ]
  },
  {
   "cell_type": "code",
   "execution_count": 14,
   "metadata": {},
   "outputs": [
    {
     "name": "stdout",
     "output_type": "stream",
     "text": [
      "The one-sided 98% confidence interval estimate for X (Lower bound X0) is: $3228.6093\n"
     ]
    }
   ],
   "source": [
    "Lower98onetail = round(ModelAvg + scipy.stats.t.ppf(.02, df=222) * ModelStd,4)\n",
    "print(\"The one-sided 98% confidence interval estimate for X (Lower bound X0) is: ${}\".format(Lower98onetail))"
   ]
  },
  {
   "cell_type": "code",
   "execution_count": 15,
   "metadata": {},
   "outputs": [
    {
     "data": {
      "text/plain": [
       "-2.053748910631823"
      ]
     },
     "execution_count": 15,
     "metadata": {},
     "output_type": "execute_result"
    }
   ],
   "source": [
    "scipy.stats.norm.ppf(.02)"
   ]
  },
  {
   "cell_type": "markdown",
   "metadata": {},
   "source": [
    "### Q5 (30 points). Data visualization using PCA\n",
    "We'll be using the breast cancer dataset from sklearn for this problem.\n",
    "\n",
    "a) For the given labeled data perform PCA and visualize (using bar-plot) the fraction of variance explained by each principle components.\n",
    "\n",
    "b) Visualize the observations along the first two principle components with colors depending on the label."
   ]
  },
  {
   "cell_type": "code",
   "execution_count": 16,
   "metadata": {
    "collapsed": true
   },
   "outputs": [],
   "source": [
    "from sklearn.datasets import load_breast_cancer\n",
    "X, y = load_breast_cancer(return_X_y=True)"
   ]
  },
  {
   "cell_type": "code",
   "execution_count": 17,
   "metadata": {},
   "outputs": [
    {
     "name": "stdout",
     "output_type": "stream",
     "text": [
      "(569L, 30L) 569\n"
     ]
    }
   ],
   "source": [
    "print X.shape, len(y)"
   ]
  },
  {
   "cell_type": "code",
   "execution_count": 18,
   "metadata": {
    "collapsed": true
   },
   "outputs": [],
   "source": [
    "Xn=X\n",
    "for i in range(X.shape[1]):\n",
    "    Xn[:,i]=(X[:,i] - X[:,i].mean())/X[:,i].std()"
   ]
  },
  {
   "cell_type": "markdown",
   "metadata": {},
   "source": [
    "**a) For the given labeled data perform PCA and visualize (using bar-plot) the fraction of variance explained by each principle components.**"
   ]
  },
  {
   "cell_type": "code",
   "execution_count": 19,
   "metadata": {},
   "outputs": [
    {
     "name": "stdout",
     "output_type": "stream",
     "text": [
      "[ 0.44272026  0.18971182  0.09393163  0.06602135  0.05495768  0.04024522\n",
      "  0.02250734  0.01588724  0.01389649  0.01168978]\n"
     ]
    },
    {
     "data": {
      "image/png": "[encoded data removed]",
      "text/plain": [
       "<matplotlib.figure.Figure at 0xf57b128>"
      ]
     },
     "metadata": {},
     "output_type": "display_data"
    }
   ],
   "source": [
    "n=10 # how many eigenvectors we choose\n",
    "pca = PCA(n)\n",
    "Xproj = pca.fit_transform(Xn)\n",
    "eigenvalues = pca.explained_variance_ratio_\n",
    "print pca.explained_variance_ratio_\n",
    "plt.bar(np.arange(n)+1, eigenvalues, color='Green');\n",
    "plt.xlabel(\"Dimensionality\")\n",
    "plt.ylabel(\"Explained Variance Ratio\")\n",
    "plt.show()"
   ]
  },
  {
   "cell_type": "code",
   "execution_count": 20,
   "metadata": {},
   "outputs": [
    {
     "data": {
      "image/png": "[encoded data removed]",
      "text/plain": [
       "<matplotlib.figure.Figure at 0xf7994e0>"
      ]
     },
     "metadata": {},
     "output_type": "display_data"
    }
   ],
   "source": [
    "plt.figure(2, figsize=(8, 6))\n",
    "plt.clf()\n",
    "# Plot the training points\n",
    "plt.scatter(Xproj[:, 0], Xproj[:, 1], c=y, cmap=plt.cm.winter)\n",
    "plt.title(\"Plot of first two principle components \\n(colour indicates occurence / non-occurence)\")\n",
    "plt.xlabel('First eigenvector')\n",
    "plt.ylabel('Second eigenvector')\n",
    "plt.show()"
   ]
  },
  {
   "cell_type": "code",
   "execution_count": 21,
   "metadata": {},
   "outputs": [
    {
     "data": {
      "image/png": "[encoded data removed]",
      "text/plain": [
       "<matplotlib.figure.Figure at 0xf57bc50>"
      ]
     },
     "metadata": {},
     "output_type": "display_data"
    }
   ],
   "source": [
    "fig = plt.figure(1, figsize=(8, 6))\n",
    "ax = Axes3D(fig, elev=-150, azim=110)\n",
    "ax.scatter(Xproj[:, 0], Xproj[:, 1], Xproj[:, 2], c=y,\n",
    "           cmap=plt.cm.winter)\n",
    "ax.set_title(\"First three PCs\")\n",
    "ax.set_xlabel(\"1st eigenvector\")\n",
    "ax.w_xaxis.set_ticklabels([])\n",
    "ax.set_ylabel(\"2nd eigenvector\")\n",
    "ax.w_yaxis.set_ticklabels([])\n",
    "ax.set_zlabel(\"3rd eigenvector\")\n",
    "ax.w_zaxis.set_ticklabels([])\n",
    "plt.title(\"Plot of first three principle components \\n(colour indicates occurence / non-occurence)\")\n",
    "\n",
    "plt.show()"
   ]
  },
  {
   "cell_type": "code",
   "execution_count": null,
   "metadata": {
    "collapsed": true
   },
   "outputs": [],
   "source": []
  }
 ],
 "metadata": {
  "kernelspec": {
   "display_name": "Python 3",
   "language": "python",
   "name": "python3"
  },
  "language_info": {
   "codemirror_mode": {
    "name": "ipython",
    "version": 3
   },
   "file_extension": ".py",
   "mimetype": "text/x-python",
   "name": "python",
   "nbconvert_exporter": "python",
   "pygments_lexer": "ipython3",
   "version": "3.6.4"
  }
 },
 "nbformat": 4,
 "nbformat_minor": 1
}
